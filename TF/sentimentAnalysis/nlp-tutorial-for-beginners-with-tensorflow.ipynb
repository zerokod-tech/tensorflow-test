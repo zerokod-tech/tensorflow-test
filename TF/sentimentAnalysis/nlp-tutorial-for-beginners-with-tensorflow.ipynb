{
 "cells": [
  {
   "cell_type": "markdown",
   "metadata": {
    "papermill": {
     "duration": 0.012082,
     "end_time": "2021-03-27T19:25:52.099360",
     "exception": false,
     "start_time": "2021-03-27T19:25:52.087278",
     "status": "completed"
    },
    "tags": []
   },
   "source": [
    "## This code is from NLP Zero to Hero from tensorflow with some modifications\n",
    "Code explanation in this videos:\n",
    "<a href=\"https://www.youtube.com/playlist?list=PLQY2H8rRoyvzDbLUZkbudP-MFQZwNmU4S\n",
    "\" target=\"_blank\"><img src=\"https://i.ytimg.com/vi/fNxaJsNG3-s/hqdefault.jpg?sqp=-oaymwEXCNACELwBSFryq4qpAwkIARUAAIhCGAE=&rs=AOn4CLCCPWFf5dlgclLSASw0WCvwTHeQaQ\" \n",
    "alt=\"IMAGE ALT TEXT HERE\" width=\"240\" height=\"180\" border=\"10\" /></a>"
   ]
  },
  {
   "cell_type": "code",
   "execution_count": 1,
   "metadata": {
    "execution": {
     "iopub.execute_input": "2021-03-27T19:25:52.127353Z",
     "iopub.status.busy": "2021-03-27T19:25:52.126321Z",
     "iopub.status.idle": "2021-03-27T19:25:58.654386Z",
     "shell.execute_reply": "2021-03-27T19:25:58.654902Z"
    },
    "papermill": {
     "duration": 6.543731,
     "end_time": "2021-03-27T19:25:58.655284",
     "exception": false,
     "start_time": "2021-03-27T19:25:52.111553",
     "status": "completed"
    },
    "tags": []
   },
   "outputs": [
    {
     "name": "stdout",
     "output_type": "stream",
     "text": [
      "2.4.1\n"
     ]
    }
   ],
   "source": [
    "import tensorflow as tf\n",
    "from tensorflow.keras.preprocessing.text import Tokenizer\n",
    "from tensorflow.keras.preprocessing.sequence import pad_sequences\n",
    "\n",
    "print(tf.__version__)"
   ]
  },
  {
   "cell_type": "markdown",
   "metadata": {
    "papermill": {
     "duration": 0.01128,
     "end_time": "2021-03-27T19:25:58.678954",
     "exception": false,
     "start_time": "2021-03-27T19:25:58.667674",
     "status": "completed"
    },
    "tags": []
   },
   "source": [
    "## Natural Language Processing - Tokenization (NLP Zero to Hero - Part 1 / 2)"
   ]
  },
  {
   "cell_type": "code",
   "execution_count": 2,
   "metadata": {
    "execution": {
     "iopub.execute_input": "2021-03-27T19:25:58.705475Z",
     "iopub.status.busy": "2021-03-27T19:25:58.704799Z",
     "iopub.status.idle": "2021-03-27T19:25:58.709419Z",
     "shell.execute_reply": "2021-03-27T19:25:58.709977Z"
    },
    "papermill": {
     "duration": 0.019559,
     "end_time": "2021-03-27T19:25:58.710183",
     "exception": false,
     "start_time": "2021-03-27T19:25:58.690624",
     "status": "completed"
    },
    "tags": []
   },
   "outputs": [],
   "source": [
    "sentences = {\n",
    "    'I love my dog',\n",
    "    'I love my car',\n",
    "    'You love my dog',\n",
    "    'You love my cat'\n",
    "}"
   ]
  },
  {
   "cell_type": "code",
   "execution_count": 3,
   "metadata": {
    "execution": {
     "iopub.execute_input": "2021-03-27T19:25:58.738665Z",
     "iopub.status.busy": "2021-03-27T19:25:58.737727Z",
     "iopub.status.idle": "2021-03-27T19:25:58.748815Z",
     "shell.execute_reply": "2021-03-27T19:25:58.748078Z"
    },
    "papermill": {
     "duration": 0.025685,
     "end_time": "2021-03-27T19:25:58.748964",
     "exception": false,
     "start_time": "2021-03-27T19:25:58.723279",
     "status": "completed"
    },
    "tags": []
   },
   "outputs": [
    {
     "name": "stdout",
     "output_type": "stream",
     "text": [
      "{'<OOV>': 1, 'love': 2, 'my': 3, 'you': 4, 'i': 5, 'dog': 6, 'cat': 7, 'car': 8}\n",
      "[[4, 2, 3, 7], [5, 2, 3, 6], [5, 2, 3, 8], [4, 2, 3, 6]]\n",
      "[[4 2 3 7 0]\n",
      " [5 2 3 6 0]\n",
      " [5 2 3 8 0]\n",
      " [4 2 3 6 0]]\n"
     ]
    }
   ],
   "source": [
    "tokenizer = Tokenizer(num_words = 100, oov_token='<OOV>')\n",
    "tokenizer.fit_on_texts(sentences)\n",
    "word_index = tokenizer.word_index\n",
    "sequences = tokenizer.texts_to_sequences(sentences)\n",
    "padded = pad_sequences(sequences, padding='post', truncating='post', maxlen=5)\n",
    "\n",
    "print(word_index)\n",
    "print(sequences)\n",
    "print(padded)"
   ]
  },
  {
   "cell_type": "code",
   "execution_count": 4,
   "metadata": {
    "execution": {
     "iopub.execute_input": "2021-03-27T19:25:58.780312Z",
     "iopub.status.busy": "2021-03-27T19:25:58.779420Z",
     "iopub.status.idle": "2021-03-27T19:25:58.782268Z",
     "shell.execute_reply": "2021-03-27T19:25:58.782785Z"
    },
    "papermill": {
     "duration": 0.021256,
     "end_time": "2021-03-27T19:25:58.782964",
     "exception": false,
     "start_time": "2021-03-27T19:25:58.761708",
     "status": "completed"
    },
    "tags": []
   },
   "outputs": [
    {
     "name": "stdout",
     "output_type": "stream",
     "text": [
      "[[5, 1, 2, 3, 6], [3, 6, 1, 3, 1]]\n"
     ]
    }
   ],
   "source": [
    "test_data = [\n",
    "    'i really love my dog',\n",
    "    'my dog loves my manatee'\n",
    "]\n",
    "\n",
    "test_seq = tokenizer.texts_to_sequences(test_data)\n",
    "print(test_seq)"
   ]
  },
  {
   "cell_type": "markdown",
   "metadata": {
    "papermill": {
     "duration": 0.012333,
     "end_time": "2021-03-27T19:25:58.808078",
     "exception": false,
     "start_time": "2021-03-27T19:25:58.795745",
     "status": "completed"
    },
    "tags": []
   },
   "source": [
    "## Modeling a Sarcasm Prediction"
   ]
  },
  {
   "cell_type": "markdown",
   "metadata": {
    "papermill": {
     "duration": 0.013236,
     "end_time": "2021-03-27T19:25:58.834994",
     "exception": false,
     "start_time": "2021-03-27T19:25:58.821758",
     "status": "completed"
    },
    "tags": []
   },
   "source": [
    "### Training a model to recognize sentiment in text (NLP Zero to Hero - Part 3)"
   ]
  },
  {
   "cell_type": "code",
   "execution_count": 5,
   "metadata": {
    "execution": {
     "iopub.execute_input": "2021-03-27T19:25:58.866152Z",
     "iopub.status.busy": "2021-03-27T19:25:58.865438Z",
     "iopub.status.idle": "2021-03-27T19:25:59.283290Z",
     "shell.execute_reply": "2021-03-27T19:25:59.282663Z"
    },
    "papermill": {
     "duration": 0.43488,
     "end_time": "2021-03-27T19:25:59.283443",
     "exception": false,
     "start_time": "2021-03-27T19:25:58.848563",
     "status": "completed"
    },
    "tags": []
   },
   "outputs": [],
   "source": [
    "import pandas as pd\n",
    "\n",
    "datastore = pd.read_json('../input/news-headlines-dataset-for-sarcasm-detection/Sarcasm_Headlines_Dataset.json', lines = True)\n",
    "\n",
    "sentences = datastore['headline'].tolist()\n",
    "labels = datastore['is_sarcastic'].tolist()\n",
    "urls = datastore['article_link'].tolist()\n",
    "\n",
    "vocab_size = 10000\n",
    "embedding_dim = 16\n",
    "max_length = 100\n",
    "trunc_type='post'\n",
    "padding_type='post'\n",
    "oov_tok = \"<OOV>\"\n",
    "training_size = 20000"
   ]
  },
  {
   "cell_type": "code",
   "execution_count": 6,
   "metadata": {
    "execution": {
     "iopub.execute_input": "2021-03-27T19:25:59.317455Z",
     "iopub.status.busy": "2021-03-27T19:25:59.315830Z",
     "iopub.status.idle": "2021-03-27T19:25:59.318187Z",
     "shell.execute_reply": "2021-03-27T19:25:59.318674Z"
    },
    "papermill": {
     "duration": 0.022036,
     "end_time": "2021-03-27T19:25:59.318847",
     "exception": false,
     "start_time": "2021-03-27T19:25:59.296811",
     "status": "completed"
    },
    "tags": []
   },
   "outputs": [],
   "source": [
    "training_sentences = sentences[0:training_size]\n",
    "testing_sentences = sentences[training_size:]\n",
    "training_labels = labels[0:training_size]\n",
    "testing_labels = labels[training_size:]"
   ]
  },
  {
   "cell_type": "code",
   "execution_count": 7,
   "metadata": {
    "execution": {
     "iopub.execute_input": "2021-03-27T19:25:59.358817Z",
     "iopub.status.busy": "2021-03-27T19:25:59.353615Z",
     "iopub.status.idle": "2021-03-27T19:26:00.438414Z",
     "shell.execute_reply": "2021-03-27T19:26:00.438967Z"
    },
    "papermill": {
     "duration": 1.107332,
     "end_time": "2021-03-27T19:26:00.439182",
     "exception": false,
     "start_time": "2021-03-27T19:25:59.331850",
     "status": "completed"
    },
    "tags": []
   },
   "outputs": [],
   "source": [
    "tokenizer = Tokenizer(num_words=vocab_size, oov_token=oov_tok)\n",
    "tokenizer.fit_on_texts(training_sentences)\n",
    "word_index = tokenizer.word_index\n",
    "\n",
    "training_sequences = tokenizer.texts_to_sequences(training_sentences)\n",
    "training_padded = pad_sequences(training_sequences,maxlen=max_length, padding=padding_type, truncating=trunc_type)\n",
    "\n",
    "testing_sequences = tokenizer.texts_to_sequences(testing_sentences)\n",
    "testing_padded = pad_sequences(testing_sequences, maxlen=max_length, padding=padding_type, truncating=trunc_type)\n"
   ]
  },
  {
   "cell_type": "code",
   "execution_count": 8,
   "metadata": {
    "execution": {
     "iopub.execute_input": "2021-03-27T19:26:00.480535Z",
     "iopub.status.busy": "2021-03-27T19:26:00.479484Z",
     "iopub.status.idle": "2021-03-27T19:26:00.491835Z",
     "shell.execute_reply": "2021-03-27T19:26:00.491260Z"
    },
    "papermill": {
     "duration": 0.033265,
     "end_time": "2021-03-27T19:26:00.491998",
     "exception": false,
     "start_time": "2021-03-27T19:26:00.458733",
     "status": "completed"
    },
    "tags": []
   },
   "outputs": [],
   "source": [
    "# Need this block to get it to work with TensorFlow 2.x\n",
    "import numpy as np\n",
    "\n",
    "training_padded = np.array(training_padded)\n",
    "training_labels = np.array(training_labels)\n",
    "testing_padded = np.array(testing_padded)\n",
    "testing_labels = np.array(testing_labels)\n"
   ]
  },
  {
   "cell_type": "code",
   "execution_count": 9,
   "metadata": {
    "execution": {
     "iopub.execute_input": "2021-03-27T19:26:00.526990Z",
     "iopub.status.busy": "2021-03-27T19:26:00.526118Z",
     "iopub.status.idle": "2021-03-27T19:26:00.651307Z",
     "shell.execute_reply": "2021-03-27T19:26:00.650696Z"
    },
    "papermill": {
     "duration": 0.145969,
     "end_time": "2021-03-27T19:26:00.651472",
     "exception": false,
     "start_time": "2021-03-27T19:26:00.505503",
     "status": "completed"
    },
    "tags": []
   },
   "outputs": [],
   "source": [
    "model = tf.keras.Sequential([\n",
    "    tf.keras.layers.Embedding(vocab_size, embedding_dim, input_length = max_length),\n",
    "    tf.keras.layers.GlobalAveragePooling1D(),\n",
    "    tf.keras.layers.Dense(24, activation='relu'),\n",
    "    tf.keras.layers.Dense(1, activation='sigmoid')\n",
    "])\n",
    "\n",
    "model.compile(loss='binary_crossentropy',optimizer='adam',metrics=['accuracy'])"
   ]
  },
  {
   "cell_type": "code",
   "execution_count": 10,
   "metadata": {
    "execution": {
     "iopub.execute_input": "2021-03-27T19:26:00.686654Z",
     "iopub.status.busy": "2021-03-27T19:26:00.685540Z",
     "iopub.status.idle": "2021-03-27T19:26:00.692424Z",
     "shell.execute_reply": "2021-03-27T19:26:00.691540Z"
    },
    "papermill": {
     "duration": 0.027715,
     "end_time": "2021-03-27T19:26:00.692592",
     "exception": false,
     "start_time": "2021-03-27T19:26:00.664877",
     "status": "completed"
    },
    "tags": []
   },
   "outputs": [
    {
     "name": "stdout",
     "output_type": "stream",
     "text": [
      "Model: \"sequential\"\n",
      "_________________________________________________________________\n",
      "Layer (type)                 Output Shape              Param #   \n",
      "=================================================================\n",
      "embedding (Embedding)        (None, 100, 16)           160000    \n",
      "_________________________________________________________________\n",
      "global_average_pooling1d (Gl (None, 16)                0         \n",
      "_________________________________________________________________\n",
      "dense (Dense)                (None, 24)                408       \n",
      "_________________________________________________________________\n",
      "dense_1 (Dense)              (None, 1)                 25        \n",
      "=================================================================\n",
      "Total params: 160,433\n",
      "Trainable params: 160,433\n",
      "Non-trainable params: 0\n",
      "_________________________________________________________________\n"
     ]
    }
   ],
   "source": [
    "model.summary()"
   ]
  },
  {
   "cell_type": "code",
   "execution_count": 11,
   "metadata": {
    "execution": {
     "iopub.execute_input": "2021-03-27T19:26:00.726925Z",
     "iopub.status.busy": "2021-03-27T19:26:00.726255Z",
     "iopub.status.idle": "2021-03-27T19:26:54.083570Z",
     "shell.execute_reply": "2021-03-27T19:26:54.084096Z"
    },
    "papermill": {
     "duration": 53.377189,
     "end_time": "2021-03-27T19:26:54.084311",
     "exception": false,
     "start_time": "2021-03-27T19:26:00.707122",
     "status": "completed"
    },
    "tags": []
   },
   "outputs": [
    {
     "name": "stdout",
     "output_type": "stream",
     "text": [
      "Epoch 1/30\n",
      "625/625 - 3s - loss: 0.6769 - accuracy: 0.5612 - val_loss: 0.6286 - val_accuracy: 0.6081\n",
      "Epoch 2/30\n",
      "625/625 - 2s - loss: 0.4631 - accuracy: 0.8135 - val_loss: 0.3951 - val_accuracy: 0.8331\n",
      "Epoch 3/30\n",
      "625/625 - 2s - loss: 0.3199 - accuracy: 0.8709 - val_loss: 0.3597 - val_accuracy: 0.8448\n",
      "Epoch 4/30\n",
      "625/625 - 2s - loss: 0.2674 - accuracy: 0.8950 - val_loss: 0.3473 - val_accuracy: 0.8521\n",
      "Epoch 5/30\n",
      "625/625 - 2s - loss: 0.2303 - accuracy: 0.9112 - val_loss: 0.3530 - val_accuracy: 0.8442\n",
      "Epoch 6/30\n",
      "625/625 - 2s - loss: 0.2043 - accuracy: 0.9227 - val_loss: 0.3518 - val_accuracy: 0.8529\n",
      "Epoch 7/30\n",
      "625/625 - 2s - loss: 0.1803 - accuracy: 0.9326 - val_loss: 0.3549 - val_accuracy: 0.8536\n",
      "Epoch 8/30\n",
      "625/625 - 2s - loss: 0.1631 - accuracy: 0.9398 - val_loss: 0.3702 - val_accuracy: 0.8529\n",
      "Epoch 9/30\n",
      "625/625 - 2s - loss: 0.1480 - accuracy: 0.9463 - val_loss: 0.3827 - val_accuracy: 0.8532\n",
      "Epoch 10/30\n",
      "625/625 - 2s - loss: 0.1331 - accuracy: 0.9535 - val_loss: 0.4006 - val_accuracy: 0.8523\n",
      "Epoch 11/30\n",
      "625/625 - 2s - loss: 0.1212 - accuracy: 0.9578 - val_loss: 0.4347 - val_accuracy: 0.8456\n",
      "Epoch 12/30\n",
      "625/625 - 2s - loss: 0.1117 - accuracy: 0.9609 - val_loss: 0.4426 - val_accuracy: 0.8477\n",
      "Epoch 13/30\n",
      "625/625 - 2s - loss: 0.1021 - accuracy: 0.9657 - val_loss: 0.4866 - val_accuracy: 0.8354\n",
      "Epoch 14/30\n",
      "625/625 - 2s - loss: 0.0944 - accuracy: 0.9676 - val_loss: 0.4872 - val_accuracy: 0.8432\n",
      "Epoch 15/30\n",
      "625/625 - 2s - loss: 0.0858 - accuracy: 0.9717 - val_loss: 0.5203 - val_accuracy: 0.8411\n",
      "Epoch 16/30\n",
      "625/625 - 2s - loss: 0.0787 - accuracy: 0.9749 - val_loss: 0.5465 - val_accuracy: 0.8392\n",
      "Epoch 17/30\n",
      "625/625 - 2s - loss: 0.0719 - accuracy: 0.9766 - val_loss: 0.5767 - val_accuracy: 0.8374\n",
      "Epoch 18/30\n",
      "625/625 - 2s - loss: 0.0653 - accuracy: 0.9799 - val_loss: 0.6020 - val_accuracy: 0.8316\n",
      "Epoch 19/30\n",
      "625/625 - 2s - loss: 0.0613 - accuracy: 0.9811 - val_loss: 0.6220 - val_accuracy: 0.8340\n",
      "Epoch 20/30\n",
      "625/625 - 2s - loss: 0.0547 - accuracy: 0.9839 - val_loss: 0.6513 - val_accuracy: 0.8308\n",
      "Epoch 21/30\n",
      "625/625 - 2s - loss: 0.0513 - accuracy: 0.9850 - val_loss: 0.6928 - val_accuracy: 0.8302\n",
      "Epoch 22/30\n",
      "625/625 - 2s - loss: 0.0485 - accuracy: 0.9863 - val_loss: 0.7129 - val_accuracy: 0.8278\n",
      "Epoch 23/30\n",
      "625/625 - 2s - loss: 0.0441 - accuracy: 0.9884 - val_loss: 0.7555 - val_accuracy: 0.8241\n",
      "Epoch 24/30\n",
      "625/625 - 2s - loss: 0.0408 - accuracy: 0.9882 - val_loss: 0.7781 - val_accuracy: 0.8241\n",
      "Epoch 25/30\n",
      "625/625 - 2s - loss: 0.0382 - accuracy: 0.9897 - val_loss: 0.8135 - val_accuracy: 0.8232\n",
      "Epoch 26/30\n",
      "625/625 - 2s - loss: 0.0347 - accuracy: 0.9907 - val_loss: 0.8427 - val_accuracy: 0.8205\n",
      "Epoch 27/30\n",
      "625/625 - 2s - loss: 0.0338 - accuracy: 0.9908 - val_loss: 0.9073 - val_accuracy: 0.8213\n",
      "Epoch 28/30\n",
      "625/625 - 2s - loss: 0.0312 - accuracy: 0.9912 - val_loss: 0.9098 - val_accuracy: 0.8158\n",
      "Epoch 29/30\n",
      "625/625 - 2s - loss: 0.0298 - accuracy: 0.9922 - val_loss: 0.9729 - val_accuracy: 0.8174\n",
      "Epoch 30/30\n",
      "625/625 - 2s - loss: 0.0262 - accuracy: 0.9936 - val_loss: 0.9734 - val_accuracy: 0.8149\n"
     ]
    }
   ],
   "source": [
    "num_epochs = 30\n",
    "history = model.fit(training_padded, training_labels, epochs=num_epochs, validation_data=(testing_padded, testing_labels), verbose=2)"
   ]
  },
  {
   "cell_type": "code",
   "execution_count": 12,
   "metadata": {
    "execution": {
     "iopub.execute_input": "2021-03-27T19:26:54.169327Z",
     "iopub.status.busy": "2021-03-27T19:26:54.154684Z",
     "iopub.status.idle": "2021-03-27T19:26:54.696071Z",
     "shell.execute_reply": "2021-03-27T19:26:54.695338Z"
    },
    "papermill": {
     "duration": 0.580124,
     "end_time": "2021-03-27T19:26:54.696232",
     "exception": false,
     "start_time": "2021-03-27T19:26:54.116108",
     "status": "completed"
    },
    "tags": []
   },
   "outputs": [
    {
     "data": {
      "image/png": "[encoded data removed]",
      "text/plain": [
       "<Figure size 432x288 with 1 Axes>"
      ]
     },
     "metadata": {
      "needs_background": "light"
     },
     "output_type": "display_data"
    },
    {
     "data": {
      "image/png": "[encoded data removed]",
      "text/plain": [
       "<Figure size 432x288 with 1 Axes>"
      ]
     },
     "metadata": {
      "needs_background": "light"
     },
     "output_type": "display_data"
    }
   ],
   "source": [
    "import matplotlib.pyplot as plt\n",
    "\n",
    "def plot_graphs(history, string):\n",
    "  plt.plot(history.history[string])\n",
    "  plt.plot(history.history['val_'+string])\n",
    "  plt.xlabel(\"Epochs\")\n",
    "  plt.ylabel(string)\n",
    "  plt.legend([string, 'val_'+string])\n",
    "  plt.show()\n",
    "  \n",
    "plot_graphs(history, \"accuracy\")\n",
    "plot_graphs(history, \"loss\")"
   ]
  },
  {
   "cell_type": "code",
   "execution_count": 13,
   "metadata": {
    "execution": {
     "iopub.execute_input": "2021-03-27T19:26:54.773625Z",
     "iopub.status.busy": "2021-03-27T19:26:54.772089Z",
     "iopub.status.idle": "2021-03-27T19:26:54.886853Z",
     "shell.execute_reply": "2021-03-27T19:26:54.886298Z"
    },
    "papermill": {
     "duration": 0.15589,
     "end_time": "2021-03-27T19:26:54.887012",
     "exception": false,
     "start_time": "2021-03-27T19:26:54.731122",
     "status": "completed"
    },
    "tags": []
   },
   "outputs": [
    {
     "name": "stdout",
     "output_type": "stream",
     "text": [
      "[[9.569130e-01]\n",
      " [7.543564e-04]]\n"
     ]
    }
   ],
   "source": [
    "sentence = [\"granny starting to fear spiders in the garden might be real\", \"game of thrones season finale showing this sunday night\"]\n",
    "sequences = tokenizer.texts_to_sequences(sentence)\n",
    "padded = pad_sequences(sequences, maxlen=max_length, padding=padding_type, truncating=trunc_type)\n",
    "print(model.predict(padded))"
   ]
  },
  {
   "cell_type": "markdown",
   "metadata": {
    "papermill": {
     "duration": 0.034309,
     "end_time": "2021-03-27T19:26:54.957148",
     "exception": false,
     "start_time": "2021-03-27T19:26:54.922839",
     "status": "completed"
    },
    "tags": []
   },
   "source": [
    "##### If help you, please upvote! Thak you 😃"
   ]
  },
  {
   "cell_type": "code",
   "execution_count": null,
   "metadata": {
    "papermill": {
     "duration": 0.034173,
     "end_time": "2021-03-27T19:26:55.025605",
     "exception": false,
     "start_time": "2021-03-27T19:26:54.991432",
     "status": "completed"
    },
    "tags": []
   },
   "outputs": [],
   "source": []
  }
 ],
 "metadata": {
  "kernelspec": {
   "display_name": "Python 3",
   "language": "python",
   "name": "python3"
  },
  "language_info": {
   "codemirror_mode": {
    "name": "ipython",
    "version": 3
   },
   "file_extension": ".py",
   "mimetype": "text/x-python",
   "name": "python",
   "nbconvert_exporter": "python",
   "pygments_lexer": "ipython3",
   "version": "3.7.9"
  },
  "papermill": {
   "default_parameters": {},
   "duration": 70.348278,
   "end_time": "2021-03-27T19:26:56.172520",
   "environment_variables": {},
   "exception": null,
   "input_path": "__notebook__.ipynb",
   "output_path": "__notebook__.ipynb",
   "parameters": {},
   "start_time": "2021-03-27T19:25:45.824242",
   "version": "2.2.2"
  }
 },
 "nbformat": 4,
 "nbformat_minor": 4
}
