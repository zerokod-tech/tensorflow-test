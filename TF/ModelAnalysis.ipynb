{
 "cells": [
  {
   "cell_type": "code",
   "execution_count": 1,
   "id": "332a7a26",
   "metadata": {},
   "outputs": [
    {
     "ename": "NameError",
     "evalue": "name 'tfma' is not defined",
     "output_type": "error",
     "traceback": [
      "\u001b[0;31m---------------------------------------------------------------------------\u001b[0m",
      "\u001b[0;31mNameError\u001b[0m                                 Traceback (most recent call last)",
      "Cell \u001b[0;32mIn[1], line 26\u001b[0m\n\u001b[1;32m      1\u001b[0m \u001b[38;5;66;03m# Run in a Jupyter Notebook.\u001b[39;00m\n\u001b[1;32m      2\u001b[0m \u001b[38;5;28;01mfrom\u001b[39;00m \u001b[38;5;21;01mgoogle\u001b[39;00m\u001b[38;5;21;01m.\u001b[39;00m\u001b[38;5;21;01mprotobuf\u001b[39;00m \u001b[38;5;28;01mimport\u001b[39;00m text_format\n\u001b[1;32m      4\u001b[0m eval_config \u001b[38;5;241m=\u001b[39m text_format\u001b[38;5;241m.\u001b[39mParse(\u001b[38;5;124m\"\"\"\u001b[39m\n\u001b[1;32m      5\u001b[0m \u001b[38;5;124m  ## Model information\u001b[39m\n\u001b[1;32m      6\u001b[0m \u001b[38;5;124m  model_specs \u001b[39m\u001b[38;5;124m{\u001b[39m\n\u001b[1;32m      7\u001b[0m \u001b[38;5;124m    # This assumes a serving model with a \u001b[39m\u001b[38;5;124m\"\u001b[39m\u001b[38;5;124mserving_default\u001b[39m\u001b[38;5;124m\"\u001b[39m\u001b[38;5;124m signature.\u001b[39m\n\u001b[1;32m      8\u001b[0m \u001b[38;5;124m    label_key: \u001b[39m\u001b[38;5;124m\"\u001b[39m\u001b[38;5;124mlabel\u001b[39m\u001b[38;5;124m\"\u001b[39m\n\u001b[1;32m      9\u001b[0m \u001b[38;5;124m    example_weight_key: \u001b[39m\u001b[38;5;124m\"\u001b[39m\u001b[38;5;124mweight\u001b[39m\u001b[38;5;124m\"\u001b[39m\n\u001b[1;32m     10\u001b[0m \u001b[38;5;124m  }\u001b[39m\n\u001b[1;32m     11\u001b[0m \u001b[38;5;124m  ## Post export metric information\u001b[39m\n\u001b[1;32m     12\u001b[0m \u001b[38;5;124m  metrics_specs \u001b[39m\u001b[38;5;124m{\u001b[39m\n\u001b[1;32m     13\u001b[0m \u001b[38;5;124m    # This adds AUC as a post training metric. If the model has built in\u001b[39m\n\u001b[1;32m     14\u001b[0m \u001b[38;5;124m    # training metrics which also contains AUC, this metric will replace it.\u001b[39m\n\u001b[1;32m     15\u001b[0m \u001b[38;5;124m    metrics \u001b[39m\u001b[38;5;124m{\u001b[39m\u001b[38;5;124m class_name: \u001b[39m\u001b[38;5;124m\"\u001b[39m\u001b[38;5;124mAUC\u001b[39m\u001b[38;5;124m\"\u001b[39m\u001b[38;5;124m }\u001b[39m\n\u001b[1;32m     16\u001b[0m \u001b[38;5;124m    # ... other post training metrics ...\u001b[39m\n\u001b[1;32m     17\u001b[0m \n\u001b[1;32m     18\u001b[0m \u001b[38;5;124m    # Plots are also configured here...\u001b[39m\n\u001b[1;32m     19\u001b[0m \u001b[38;5;124m    metrics \u001b[39m\u001b[38;5;124m{\u001b[39m\u001b[38;5;124m class_name: \u001b[39m\u001b[38;5;124m\"\u001b[39m\u001b[38;5;124mConfusionMatrixPlot\u001b[39m\u001b[38;5;124m\"\u001b[39m\u001b[38;5;124m }\u001b[39m\n\u001b[1;32m     20\u001b[0m \u001b[38;5;124m  }\u001b[39m\n\u001b[1;32m     21\u001b[0m \u001b[38;5;124m  ## Slicing information\u001b[39m\n\u001b[1;32m     22\u001b[0m \u001b[38;5;124m  slicing_specs \u001b[39m\u001b[38;5;132;01m{}\u001b[39;00m\u001b[38;5;124m  # overall slice\u001b[39m\n\u001b[1;32m     23\u001b[0m \u001b[38;5;124m  slicing_specs \u001b[39m\u001b[38;5;124m{\u001b[39m\n\u001b[1;32m     24\u001b[0m \u001b[38;5;124m    feature_keys: [\u001b[39m\u001b[38;5;124m\"\u001b[39m\u001b[38;5;124mage\u001b[39m\u001b[38;5;124m\"\u001b[39m\u001b[38;5;124m]\u001b[39m\n\u001b[1;32m     25\u001b[0m \u001b[38;5;124m  }\u001b[39m\n\u001b[0;32m---> 26\u001b[0m \u001b[38;5;124m\"\"\"\u001b[39m, tfma\u001b[38;5;241m.\u001b[39mEvalConfig())\n\u001b[1;32m     28\u001b[0m eval_shared_model \u001b[38;5;241m=\u001b[39m tfma\u001b[38;5;241m.\u001b[39mdefault_eval_shared_model(\n\u001b[1;32m     29\u001b[0m     eval_saved_model_path\u001b[38;5;241m=\u001b[39m\u001b[38;5;124m'\u001b[39m\u001b[38;5;124m/path/to/saved/model\u001b[39m\u001b[38;5;124m'\u001b[39m, eval_config\u001b[38;5;241m=\u001b[39meval_config)\n\u001b[1;32m     31\u001b[0m eval_result \u001b[38;5;241m=\u001b[39m tfma\u001b[38;5;241m.\u001b[39mrun_model_analysis(\n\u001b[1;32m     32\u001b[0m     eval_shared_model\u001b[38;5;241m=\u001b[39meval_shared_model,\n\u001b[1;32m     33\u001b[0m     eval_config\u001b[38;5;241m=\u001b[39meval_config,\n\u001b[0;32m   (...)\u001b[0m\n\u001b[1;32m     36\u001b[0m     data_location\u001b[38;5;241m=\u001b[39m\u001b[38;5;124m'\u001b[39m\u001b[38;5;124m/path/to/file/containing/tfrecords\u001b[39m\u001b[38;5;124m'\u001b[39m,\n\u001b[1;32m     37\u001b[0m     output_path\u001b[38;5;241m=\u001b[39m\u001b[38;5;124m'\u001b[39m\u001b[38;5;124m/path/for/output\u001b[39m\u001b[38;5;124m'\u001b[39m)\n",
      "\u001b[0;31mNameError\u001b[0m: name 'tfma' is not defined"
     ]
    }
   ],
   "source": [
    "# Run in a Jupyter Notebook.\n",
    "from google.protobuf import text_format\n",
    "\n",
    "eval_config = text_format.Parse(\"\"\"\n",
    "  ## Model information\n",
    "  model_specs {\n",
    "    # This assumes a serving model with a \"serving_default\" signature.\n",
    "    label_key: \"label\"\n",
    "    example_weight_key: \"weight\"\n",
    "  }\n",
    "  ## Post export metric information\n",
    "  metrics_specs {\n",
    "    # This adds AUC as a post training metric. If the model has built in\n",
    "    # training metrics which also contains AUC, this metric will replace it.\n",
    "    metrics { class_name: \"AUC\" }\n",
    "    # ... other post training metrics ...\n",
    "\n",
    "    # Plots are also configured here...\n",
    "    metrics { class_name: \"ConfusionMatrixPlot\" }\n",
    "  }\n",
    "  ## Slicing information\n",
    "  slicing_specs {}  # overall slice\n",
    "  slicing_specs {\n",
    "    feature_keys: [\"age\"]\n",
    "  }\n",
    "\"\"\", tfma.EvalConfig())\n",
    "\n",
    "eval_shared_model = tfma.default_eval_shared_model(\n",
    "    eval_saved_model_path='/path/to/saved/model', eval_config=eval_config)\n",
    "\n",
    "eval_result = tfma.run_model_analysis(\n",
    "    eval_shared_model=eval_shared_model,\n",
    "    eval_config=eval_config,\n",
    "    # This assumes your data is a TFRecords file containing records in the\n",
    "    # tf.train.Example format.\n",
    "    data_location='/path/to/file/containing/tfrecords',\n",
    "    output_path='/path/for/output')\n",
    "\n",
    "tfma.view.render_slicing_metrics(eval_result)"
   ]
  },
  {
   "cell_type": "code",
   "execution_count": null,
   "id": "17825cf8",
   "metadata": {},
   "outputs": [],
   "source": []
  }
 ],
 "metadata": {
  "kernelspec": {
   "display_name": "Python 3 (ipykernel)",
   "language": "python",
   "name": "python3"
  },
  "language_info": {
   "codemirror_mode": {
    "name": "ipython",
    "version": 3
   },
   "file_extension": ".py",
   "mimetype": "text/x-python",
   "name": "python",
   "nbconvert_exporter": "python",
   "pygments_lexer": "ipython3",
   "version": "3.11.5"
  }
 },
 "nbformat": 4,
 "nbformat_minor": 5
}
